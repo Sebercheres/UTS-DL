{
  "cells": [
    {
      "cell_type": "markdown",
      "metadata": {
        "id": "0WgAFsIKOzFR"
      },
      "source": [
        "# import libraries"
      ]
    },
    {
      "cell_type": "code",
      "execution_count": 35,
      "metadata": {
        "id": "U4TFvFyFOtQS"
      },
      "outputs": [],
      "source": [
        "import pandas as pd\n",
        "import tensorflow as tf\n",
        "import keras\n",
        "from keras import Sequential\n",
        "import keras.layers as layers\n",
        "import keras.backend as K\n",
        "import warnings\n",
        "import numpy as np\n",
        "from sklearn.metrics import f1_score, confusion_matrix, classification_report\n",
        "import seaborn as sns\n",
        "import matplotlib.pyplot as plt\n",
        "\n",
        "warnings.filterwarnings('ignore')"
      ]
    },
    {
      "cell_type": "markdown",
      "metadata": {
        "id": "fgcmwGowP7gd"
      },
      "source": [
        "# import dataset"
      ]
    },
    {
      "cell_type": "code",
      "execution_count": 2,
      "metadata": {
        "id": "R2DBM4FlP5-J"
      },
      "outputs": [],
      "source": [
        "X_train = pd.read_csv('https://raw.githubusercontent.com/Sebercheres/UTS-DL/main/dataset/X_train.csv')\n",
        "X_val = pd.read_csv('https://raw.githubusercontent.com/Sebercheres/UTS-DL/main/dataset/X_val.csv')\n",
        "X_test = pd.read_csv('https://raw.githubusercontent.com/Sebercheres/UTS-DL/main/dataset/X_test.csv')\n",
        "\n",
        "y_train = pd.read_csv('https://raw.githubusercontent.com/Sebercheres/UTS-DL/main/dataset/y_train.csv')\n",
        "y_val = pd.read_csv('https://raw.githubusercontent.com/Sebercheres/UTS-DL/main/dataset/y_val.csv')\n",
        "y_test = pd.read_csv('https://raw.githubusercontent.com/Sebercheres/UTS-DL/main/dataset/y_test.csv')"
      ]
    },
    {
      "cell_type": "code",
      "execution_count": 3,
      "metadata": {
        "colab": {
          "base_uri": "https://localhost:8080/",
          "height": 206
        },
        "id": "L2x70c2RQSbz",
        "outputId": "0654903e-ed21-4f77-fdc5-c5738b45e640"
      },
      "outputs": [
        {
          "data": {
            "text/html": [
              "\n",
              "  <div id=\"df-a6991fa0-734f-4b51-8991-fa747267ddee\">\n",
              "    <div class=\"colab-df-container\">\n",
              "      <div>\n",
              "<style scoped>\n",
              "    .dataframe tbody tr th:only-of-type {\n",
              "        vertical-align: middle;\n",
              "    }\n",
              "\n",
              "    .dataframe tbody tr th {\n",
              "        vertical-align: top;\n",
              "    }\n",
              "\n",
              "    .dataframe thead th {\n",
              "        text-align: right;\n",
              "    }\n",
              "</style>\n",
              "<table border=\"1\" class=\"dataframe\">\n",
              "  <thead>\n",
              "    <tr style=\"text-align: right;\">\n",
              "      <th></th>\n",
              "      <th>V1</th>\n",
              "      <th>V2</th>\n",
              "      <th>V3</th>\n",
              "      <th>V4</th>\n",
              "      <th>V5</th>\n",
              "      <th>V6</th>\n",
              "      <th>V7</th>\n",
              "      <th>V8</th>\n",
              "      <th>V9</th>\n",
              "      <th>V10</th>\n",
              "    </tr>\n",
              "  </thead>\n",
              "  <tbody>\n",
              "    <tr>\n",
              "      <th>0</th>\n",
              "      <td>1.108288</td>\n",
              "      <td>0.334538</td>\n",
              "      <td>-0.928804</td>\n",
              "      <td>0.568671</td>\n",
              "      <td>0.833502</td>\n",
              "      <td>-0.657141</td>\n",
              "      <td>0.506799</td>\n",
              "      <td>-0.564233</td>\n",
              "      <td>0.771240</td>\n",
              "      <td>-0.362660</td>\n",
              "    </tr>\n",
              "    <tr>\n",
              "      <th>1</th>\n",
              "      <td>-0.682776</td>\n",
              "      <td>0.791829</td>\n",
              "      <td>-0.753517</td>\n",
              "      <td>-1.284149</td>\n",
              "      <td>0.895069</td>\n",
              "      <td>-0.795165</td>\n",
              "      <td>0.878750</td>\n",
              "      <td>-0.792463</td>\n",
              "      <td>-0.938867</td>\n",
              "      <td>0.682620</td>\n",
              "    </tr>\n",
              "    <tr>\n",
              "      <th>2</th>\n",
              "      <td>-0.380328</td>\n",
              "      <td>0.984271</td>\n",
              "      <td>-0.313804</td>\n",
              "      <td>0.853838</td>\n",
              "      <td>0.550795</td>\n",
              "      <td>-0.904042</td>\n",
              "      <td>0.958895</td>\n",
              "      <td>0.523307</td>\n",
              "      <td>-0.846885</td>\n",
              "      <td>-0.077131</td>\n",
              "    </tr>\n",
              "    <tr>\n",
              "      <th>3</th>\n",
              "      <td>-0.682534</td>\n",
              "      <td>0.662424</td>\n",
              "      <td>1.182869</td>\n",
              "      <td>-0.746355</td>\n",
              "      <td>0.846742</td>\n",
              "      <td>1.481897</td>\n",
              "      <td>0.173655</td>\n",
              "      <td>0.840533</td>\n",
              "      <td>-0.489766</td>\n",
              "      <td>-0.656951</td>\n",
              "    </tr>\n",
              "    <tr>\n",
              "      <th>4</th>\n",
              "      <td>-1.459707</td>\n",
              "      <td>1.753709</td>\n",
              "      <td>-3.044087</td>\n",
              "      <td>1.822702</td>\n",
              "      <td>-3.255496</td>\n",
              "      <td>-1.468134</td>\n",
              "      <td>-3.010396</td>\n",
              "      <td>1.930334</td>\n",
              "      <td>-1.587531</td>\n",
              "      <td>-2.640146</td>\n",
              "    </tr>\n",
              "  </tbody>\n",
              "</table>\n",
              "</div>\n",
              "      <button class=\"colab-df-convert\" onclick=\"convertToInteractive('df-a6991fa0-734f-4b51-8991-fa747267ddee')\"\n",
              "              title=\"Convert this dataframe to an interactive table.\"\n",
              "              style=\"display:none;\">\n",
              "        \n",
              "  <svg xmlns=\"http://www.w3.org/2000/svg\" height=\"24px\"viewBox=\"0 0 24 24\"\n",
              "       width=\"24px\">\n",
              "    <path d=\"M0 0h24v24H0V0z\" fill=\"none\"/>\n",
              "    <path d=\"M18.56 5.44l.94 2.06.94-2.06 2.06-.94-2.06-.94-.94-2.06-.94 2.06-2.06.94zm-11 1L8.5 8.5l.94-2.06 2.06-.94-2.06-.94L8.5 2.5l-.94 2.06-2.06.94zm10 10l.94 2.06.94-2.06 2.06-.94-2.06-.94-.94-2.06-.94 2.06-2.06.94z\"/><path d=\"M17.41 7.96l-1.37-1.37c-.4-.4-.92-.59-1.43-.59-.52 0-1.04.2-1.43.59L10.3 9.45l-7.72 7.72c-.78.78-.78 2.05 0 2.83L4 21.41c.39.39.9.59 1.41.59.51 0 1.02-.2 1.41-.59l7.78-7.78 2.81-2.81c.8-.78.8-2.07 0-2.86zM5.41 20L4 18.59l7.72-7.72 1.47 1.35L5.41 20z\"/>\n",
              "  </svg>\n",
              "      </button>\n",
              "      \n",
              "  <style>\n",
              "    .colab-df-container {\n",
              "      display:flex;\n",
              "      flex-wrap:wrap;\n",
              "      gap: 12px;\n",
              "    }\n",
              "\n",
              "    .colab-df-convert {\n",
              "      background-color: #E8F0FE;\n",
              "      border: none;\n",
              "      border-radius: 50%;\n",
              "      cursor: pointer;\n",
              "      display: none;\n",
              "      fill: #1967D2;\n",
              "      height: 32px;\n",
              "      padding: 0 0 0 0;\n",
              "      width: 32px;\n",
              "    }\n",
              "\n",
              "    .colab-df-convert:hover {\n",
              "      background-color: #E2EBFA;\n",
              "      box-shadow: 0px 1px 2px rgba(60, 64, 67, 0.3), 0px 1px 3px 1px rgba(60, 64, 67, 0.15);\n",
              "      fill: #174EA6;\n",
              "    }\n",
              "\n",
              "    [theme=dark] .colab-df-convert {\n",
              "      background-color: #3B4455;\n",
              "      fill: #D2E3FC;\n",
              "    }\n",
              "\n",
              "    [theme=dark] .colab-df-convert:hover {\n",
              "      background-color: #434B5C;\n",
              "      box-shadow: 0px 1px 3px 1px rgba(0, 0, 0, 0.15);\n",
              "      filter: drop-shadow(0px 1px 2px rgba(0, 0, 0, 0.3));\n",
              "      fill: #FFFFFF;\n",
              "    }\n",
              "  </style>\n",
              "\n",
              "      <script>\n",
              "        const buttonEl =\n",
              "          document.querySelector('#df-a6991fa0-734f-4b51-8991-fa747267ddee button.colab-df-convert');\n",
              "        buttonEl.style.display =\n",
              "          google.colab.kernel.accessAllowed ? 'block' : 'none';\n",
              "\n",
              "        async function convertToInteractive(key) {\n",
              "          const element = document.querySelector('#df-a6991fa0-734f-4b51-8991-fa747267ddee');\n",
              "          const dataTable =\n",
              "            await google.colab.kernel.invokeFunction('convertToInteractive',\n",
              "                                                     [key], {});\n",
              "          if (!dataTable) return;\n",
              "\n",
              "          const docLinkHtml = 'Like what you see? Visit the ' +\n",
              "            '<a target=\"_blank\" href=https://colab.research.google.com/notebooks/data_table.ipynb>data table notebook</a>'\n",
              "            + ' to learn more about interactive tables.';\n",
              "          element.innerHTML = '';\n",
              "          dataTable['output_type'] = 'display_data';\n",
              "          await google.colab.output.renderOutput(dataTable, element);\n",
              "          const docLink = document.createElement('div');\n",
              "          docLink.innerHTML = docLinkHtml;\n",
              "          element.appendChild(docLink);\n",
              "        }\n",
              "      </script>\n",
              "    </div>\n",
              "  </div>\n",
              "  "
            ],
            "text/plain": [
              "         V1        V2        V3        V4        V5        V6        V7  \\\n",
              "0  1.108288  0.334538 -0.928804  0.568671  0.833502 -0.657141  0.506799   \n",
              "1 -0.682776  0.791829 -0.753517 -1.284149  0.895069 -0.795165  0.878750   \n",
              "2 -0.380328  0.984271 -0.313804  0.853838  0.550795 -0.904042  0.958895   \n",
              "3 -0.682534  0.662424  1.182869 -0.746355  0.846742  1.481897  0.173655   \n",
              "4 -1.459707  1.753709 -3.044087  1.822702 -3.255496 -1.468134 -3.010396   \n",
              "\n",
              "         V8        V9       V10  \n",
              "0 -0.564233  0.771240 -0.362660  \n",
              "1 -0.792463 -0.938867  0.682620  \n",
              "2  0.523307 -0.846885 -0.077131  \n",
              "3  0.840533 -0.489766 -0.656951  \n",
              "4  1.930334 -1.587531 -2.640146  "
            ]
          },
          "execution_count": 3,
          "metadata": {},
          "output_type": "execute_result"
        }
      ],
      "source": [
        "X_train.head()"
      ]
    },
    {
      "cell_type": "code",
      "execution_count": 4,
      "metadata": {
        "colab": {
          "base_uri": "https://localhost:8080/"
        },
        "id": "cOXUtH8iQUHO",
        "outputId": "6783b53a-82d5-425a-f4ba-8bd74fed9901"
      },
      "outputs": [
        {
          "data": {
            "text/plain": [
              "(28481, 10)"
            ]
          },
          "execution_count": 4,
          "metadata": {},
          "output_type": "execute_result"
        }
      ],
      "source": [
        "X_val.shape"
      ]
    },
    {
      "cell_type": "code",
      "execution_count": 5,
      "metadata": {
        "colab": {
          "base_uri": "https://localhost:8080/"
        },
        "id": "7lLX8snnQYr2",
        "outputId": "a4e4031f-4b5c-49c6-fa9a-4e389217f588"
      },
      "outputs": [
        {
          "data": {
            "text/plain": [
              "(28481, 10)"
            ]
          },
          "execution_count": 5,
          "metadata": {},
          "output_type": "execute_result"
        }
      ],
      "source": [
        "X_test.shape"
      ]
    },
    {
      "cell_type": "markdown",
      "metadata": {
        "id": "1YDePlRPQi-i"
      },
      "source": [
        "> as we agree that the val and test is 10%"
      ]
    },
    {
      "cell_type": "markdown",
      "metadata": {
        "id": "Ob6EwVWwQnK-"
      },
      "source": [
        "# base model"
      ]
    },
    {
      "cell_type": "markdown",
      "metadata": {
        "id": "FMmZJxxcRZZP"
      },
      "source": [
        "> for the base model the architecture will be (𝒏, 𝟐 × 𝒏, 𝟐 × 𝒏, 𝒏𝒖𝒎_𝒄𝒍𝒂𝒔𝒔) where n is input layer which means how many features there are which is 10 and num_class which is 2"
      ]
    },
    {
      "cell_type": "code",
      "execution_count": 6,
      "metadata": {
        "id": "h2nI0tDvRYRU"
      },
      "outputs": [],
      "source": [
        "n = len(X_train.columns)\n",
        "num_class = len(y_train.target.unique()) - 1"
      ]
    },
    {
      "cell_type": "code",
      "execution_count": 7,
      "metadata": {
        "id": "z-2o0Gu5SYuT"
      },
      "outputs": [],
      "source": [
        "keras.backend.clear_session()\n",
        "base_model = Sequential()\n",
        "base_model.add(layers.Dense(2 * n, input_shape = (n,)))\n",
        "base_model.add(layers.Activation('relu'))\n",
        "base_model.add(layers.Dense(2 * n))\n",
        "base_model.add(layers.Activation('relu'))\n",
        "base_model.add(layers.Dense(num_class))\n",
        "base_model.add(layers.Activation('sigmoid'))"
      ]
    },
    {
      "cell_type": "markdown",
      "metadata": {
        "id": "MB5XErz4aSj7"
      },
      "source": [
        "> as we are going to use binary cross entropy the class will be only 1 with probability of 0 to 1"
      ]
    },
    {
      "cell_type": "code",
      "execution_count": 8,
      "metadata": {
        "colab": {
          "base_uri": "https://localhost:8080/"
        },
        "id": "LVPq8jUeVCxK",
        "outputId": "6f57ef67-d5e3-4bb7-fdd8-9374f01fd85d"
      },
      "outputs": [
        {
          "name": "stdout",
          "output_type": "stream",
          "text": [
            "Model: \"sequential\"\n",
            "_________________________________________________________________\n",
            " Layer (type)                Output Shape              Param #   \n",
            "=================================================================\n",
            " dense (Dense)               (None, 20)                220       \n",
            "                                                                 \n",
            " activation (Activation)     (None, 20)                0         \n",
            "                                                                 \n",
            " dense_1 (Dense)             (None, 20)                420       \n",
            "                                                                 \n",
            " activation_1 (Activation)   (None, 20)                0         \n",
            "                                                                 \n",
            " dense_2 (Dense)             (None, 1)                 21        \n",
            "                                                                 \n",
            " activation_2 (Activation)   (None, 1)                 0         \n",
            "                                                                 \n",
            "=================================================================\n",
            "Total params: 661\n",
            "Trainable params: 661\n",
            "Non-trainable params: 0\n",
            "_________________________________________________________________\n"
          ]
        }
      ],
      "source": [
        "base_model.summary()"
      ]
    },
    {
      "cell_type": "markdown",
      "metadata": {
        "id": "3DnPr3UwVL3G"
      },
      "source": [
        "> from the first dense we can see that the input will be 10 and the dense layer will be 20 as it suggest in the question but it will add 20 for its bias and also the next and next one"
      ]
    },
    {
      "cell_type": "markdown",
      "metadata": {
        "id": "99cl6it3Vs6n"
      },
      "source": [
        "> now we are going to compile the model the loss will be binary crossentropy for the epoch will be 5 and the optimizer will be Adam as it is one of the fastest and more accurate and the metrics will be accuracy and f1 score"
      ]
    },
    {
      "cell_type": "code",
      "execution_count": 9,
      "metadata": {
        "id": "km89utzlXUgJ"
      },
      "outputs": [],
      "source": [
        "def get_f1(y_true, y_pred):\n",
        "    true_positives = K.sum(K.round(K.clip(y_true * y_pred, 0, 1)))\n",
        "    possible_positives = K.sum(K.round(K.clip(y_true, 0, 1)))\n",
        "    predicted_positives = K.sum(K.round(K.clip(y_pred, 0, 1)))\n",
        "    precision = true_positives / (predicted_positives + K.epsilon())\n",
        "    recall = true_positives / (possible_positives + K.epsilon())\n",
        "    f1_val = 2*(precision*recall)/(precision+recall+K.epsilon())\n",
        "    return f1_val"
      ]
    },
    {
      "cell_type": "code",
      "execution_count": 10,
      "metadata": {
        "id": "LCjyTgF0VbUl"
      },
      "outputs": [],
      "source": [
        "loss = tf.keras.losses.BinaryCrossentropy(from_logits=True)\n",
        "optimizer = tf.keras.optimizers.Adam(learning_rate=1e-5)\n",
        "metrics = [get_f1, 'accuracy']"
      ]
    },
    {
      "cell_type": "code",
      "execution_count": 11,
      "metadata": {
        "id": "8FobEVbtWkDg"
      },
      "outputs": [],
      "source": [
        "base_model.compile(loss = loss, optimizer = optimizer, metrics=metrics)"
      ]
    },
    {
      "cell_type": "code",
      "execution_count": 12,
      "metadata": {
        "colab": {
          "base_uri": "https://localhost:8080/"
        },
        "id": "7DEJuFD2Xfcs",
        "outputId": "9d1aeabb-3ab1-4b18-f5b9-627aae380b9c"
      },
      "outputs": [
        {
          "name": "stdout",
          "output_type": "stream",
          "text": [
            "Epoch 1/5\n",
            "7733/7733 [==============================] - 41s 5ms/step - loss: 0.3961 - get_f1: 0.0502 - accuracy: 0.9129 - val_loss: 0.1567 - val_get_f1: 0.0123 - val_accuracy: 0.9979\n",
            "Epoch 2/5\n",
            "7733/7733 [==============================] - 28s 4ms/step - loss: 0.1526 - get_f1: 0.5564 - accuracy: 0.9592 - val_loss: 0.0534 - val_get_f1: 0.0359 - val_accuracy: 0.9952\n",
            "Epoch 3/5\n",
            "7733/7733 [==============================] - 29s 4ms/step - loss: 0.0937 - get_f1: 0.7382 - accuracy: 0.9759 - val_loss: 0.0338 - val_get_f1: 0.0382 - val_accuracy: 0.9958\n",
            "Epoch 4/5\n",
            "7733/7733 [==============================] - 29s 4ms/step - loss: 0.0789 - get_f1: 0.7689 - accuracy: 0.9793 - val_loss: 0.0282 - val_get_f1: 0.0385 - val_accuracy: 0.9959\n",
            "Epoch 5/5\n",
            "7733/7733 [==============================] - 29s 4ms/step - loss: 0.0725 - get_f1: 0.7725 - accuracy: 0.9804 - val_loss: 0.0256 - val_get_f1: 0.0404 - val_accuracy: 0.9957\n"
          ]
        }
      ],
      "source": [
        "base_hist = base_model.fit(X_train, y_train, epochs=5, batch_size=32, validation_data = (X_val, y_val))"
      ]
    },
    {
      "cell_type": "markdown",
      "metadata": {
        "id": "ikFeqsLtbe0r"
      },
      "source": [
        "> because of the data that was given we cannot do a lot as the data is very much imbalanced it can have a really got accuracy but a bad f1 score"
      ]
    },
    {
      "cell_type": "markdown",
      "metadata": {
        "id": "QSDfPa6lbdAA"
      },
      "source": [
        "# modelling"
      ]
    },
    {
      "cell_type": "markdown",
      "metadata": {
        "id": "33g7gKvmbeaB"
      },
      "source": [
        "> for this one im going to make a DNN."
      ]
    },
    {
      "cell_type": "markdown",
      "metadata": {
        "id": "Pt1hnNFIcxX7"
      },
      "source": [
        "> to deal with vanishing gradient im going to use elu as activation and using batch norm with he kernel"
      ]
    },
    {
      "cell_type": "code",
      "execution_count": 13,
      "metadata": {
        "id": "XxI2vgVmcPEz"
      },
      "outputs": [],
      "source": [
        "model = Sequential()\n",
        "model.add(keras.Input(shape=(n,)))\n",
        "for _ in range(10):\n",
        "  model.add(layers.Dense(300, activation=\"elu\", kernel_initializer=\"he_normal\"))\n",
        "  model.add(layers.BatchNormalization())\n",
        "model.add(layers.Dense(1, activation='sigmoid'))\n",
        "\n",
        "model.compile(loss=loss, optimizer=optimizer, metrics = metrics)"
      ]
    },
    {
      "cell_type": "code",
      "execution_count": 14,
      "metadata": {
        "colab": {
          "base_uri": "https://localhost:8080/"
        },
        "id": "2qLfXbNngodw",
        "outputId": "cccae853-1496-4cef-923d-15680bc97eb3"
      },
      "outputs": [
        {
          "name": "stdout",
          "output_type": "stream",
          "text": [
            "Model: \"sequential_1\"\n",
            "_________________________________________________________________\n",
            " Layer (type)                Output Shape              Param #   \n",
            "=================================================================\n",
            " dense_3 (Dense)             (None, 300)               3300      \n",
            "                                                                 \n",
            " batch_normalization (BatchN  (None, 300)              1200      \n",
            " ormalization)                                                   \n",
            "                                                                 \n",
            " dense_4 (Dense)             (None, 300)               90300     \n",
            "                                                                 \n",
            " batch_normalization_1 (Batc  (None, 300)              1200      \n",
            " hNormalization)                                                 \n",
            "                                                                 \n",
            " dense_5 (Dense)             (None, 300)               90300     \n",
            "                                                                 \n",
            " batch_normalization_2 (Batc  (None, 300)              1200      \n",
            " hNormalization)                                                 \n",
            "                                                                 \n",
            " dense_6 (Dense)             (None, 300)               90300     \n",
            "                                                                 \n",
            " batch_normalization_3 (Batc  (None, 300)              1200      \n",
            " hNormalization)                                                 \n",
            "                                                                 \n",
            " dense_7 (Dense)             (None, 300)               90300     \n",
            "                                                                 \n",
            " batch_normalization_4 (Batc  (None, 300)              1200      \n",
            " hNormalization)                                                 \n",
            "                                                                 \n",
            " dense_8 (Dense)             (None, 300)               90300     \n",
            "                                                                 \n",
            " batch_normalization_5 (Batc  (None, 300)              1200      \n",
            " hNormalization)                                                 \n",
            "                                                                 \n",
            " dense_9 (Dense)             (None, 300)               90300     \n",
            "                                                                 \n",
            " batch_normalization_6 (Batc  (None, 300)              1200      \n",
            " hNormalization)                                                 \n",
            "                                                                 \n",
            " dense_10 (Dense)            (None, 300)               90300     \n",
            "                                                                 \n",
            " batch_normalization_7 (Batc  (None, 300)              1200      \n",
            " hNormalization)                                                 \n",
            "                                                                 \n",
            " dense_11 (Dense)            (None, 300)               90300     \n",
            "                                                                 \n",
            " batch_normalization_8 (Batc  (None, 300)              1200      \n",
            " hNormalization)                                                 \n",
            "                                                                 \n",
            " dense_12 (Dense)            (None, 300)               90300     \n",
            "                                                                 \n",
            " batch_normalization_9 (Batc  (None, 300)              1200      \n",
            " hNormalization)                                                 \n",
            "                                                                 \n",
            " dense_13 (Dense)            (None, 1)                 301       \n",
            "                                                                 \n",
            "=================================================================\n",
            "Total params: 828,301\n",
            "Trainable params: 822,301\n",
            "Non-trainable params: 6,000\n",
            "_________________________________________________________________\n"
          ]
        }
      ],
      "source": [
        "model.summary()"
      ]
    },
    {
      "cell_type": "code",
      "execution_count": 15,
      "metadata": {
        "colab": {
          "base_uri": "https://localhost:8080/"
        },
        "id": "nzXw8S43gqga",
        "outputId": "abcf635f-b5c4-4563-9a48-8e4deacae450"
      },
      "outputs": [
        {
          "name": "stdout",
          "output_type": "stream",
          "text": [
            "Epoch 1/5\n",
            "7733/7733 [==============================] - 90s 11ms/step - loss: 0.1596 - get_f1: 0.7992 - accuracy: 0.9629 - val_loss: 0.0419 - val_get_f1: 0.0412 - val_accuracy: 0.9968\n",
            "Epoch 2/5\n",
            "7733/7733 [==============================] - 85s 11ms/step - loss: 0.0662 - get_f1: 0.8529 - accuracy: 0.9865 - val_loss: 0.0311 - val_get_f1: 0.0417 - val_accuracy: 0.9961\n",
            "Epoch 3/5\n",
            "7733/7733 [==============================] - 85s 11ms/step - loss: 0.0421 - get_f1: 0.8595 - accuracy: 0.9892 - val_loss: 0.0232 - val_get_f1: 0.0417 - val_accuracy: 0.9959\n",
            "Epoch 4/5\n",
            "7733/7733 [==============================] - 83s 11ms/step - loss: 0.0329 - get_f1: 0.8618 - accuracy: 0.9904 - val_loss: 0.0201 - val_get_f1: 0.0413 - val_accuracy: 0.9953\n",
            "Epoch 5/5\n",
            "7733/7733 [==============================] - 87s 11ms/step - loss: 0.0281 - get_f1: 0.8675 - accuracy: 0.9912 - val_loss: 0.0171 - val_get_f1: 0.0424 - val_accuracy: 0.9956\n"
          ]
        }
      ],
      "source": [
        "model_hist = model.fit(X_train, y_train, epochs=5, batch_size=32, validation_data = (X_val, y_val))"
      ]
    },
    {
      "cell_type": "markdown",
      "metadata": {
        "id": "vViAlfrWjOou"
      },
      "source": [
        "> even if the accuracy isnt really improve that much we get an improvement a little bit in the f1 score."
      ]
    },
    {
      "cell_type": "markdown",
      "metadata": {
        "id": "PBLGf-f_jVYL"
      },
      "source": [
        "# evaluation"
      ]
    },
    {
      "cell_type": "code",
      "execution_count": 32,
      "metadata": {
        "colab": {
          "base_uri": "https://localhost:8080/"
        },
        "id": "iJI2Zdf5jWpS",
        "outputId": "80f7277d-597c-4810-97a1-ab8dd28ac395"
      },
      "outputs": [
        {
          "name": "stdout",
          "output_type": "stream",
          "text": [
            "891/891 [==============================] - 3s 4ms/step\n"
          ]
        }
      ],
      "source": [
        "y_pred = model.predict(X_test)\n",
        "f = lambda x: 1 if x > 0.5 else 0\n",
        "y_pred = np.array(list(map(f, y_pred)))"
      ]
    },
    {
      "cell_type": "code",
      "execution_count": 33,
      "metadata": {
        "colab": {
          "base_uri": "https://localhost:8080/"
        },
        "id": "9LeUpsINjy0-",
        "outputId": "79e14fcd-91ec-4f85-b8ad-4770cec3f0a6"
      },
      "outputs": [
        {
          "name": "stdout",
          "output_type": "stream",
          "text": [
            "              precision    recall  f1-score   support\n",
            "\n",
            "           0       1.00      1.00      1.00     28432\n",
            "           1       0.26      0.84      0.39        49\n",
            "\n",
            "    accuracy                           1.00     28481\n",
            "   macro avg       0.63      0.92      0.70     28481\n",
            "weighted avg       1.00      1.00      1.00     28481\n",
            "\n"
          ]
        }
      ],
      "source": [
        "print(classification_report(y_test, y_pred))"
      ]
    },
    {
      "cell_type": "markdown",
      "metadata": {
        "id": "sOHujgxhlUD_"
      },
      "source": [
        "> the recall of the model is very goog but the f1-score isn't really that great"
      ]
    },
    {
      "cell_type": "code",
      "execution_count": 37,
      "metadata": {
        "colab": {
          "base_uri": "https://localhost:8080/",
          "height": 279
        },
        "id": "o7-sl6TIj6aD",
        "outputId": "e443d7b2-2ea9-4d56-f5c9-641c51baca72"
      },
      "outputs": [
        {
          "data": {
            "image/png": "[encoded data removed]",
            "text/plain": [
              "<Figure size 432x288 with 2 Axes>"
            ]
          },
          "metadata": {
            "needs_background": "light"
          },
          "output_type": "display_data"
        }
      ],
      "source": [
        "ax= plt.subplot()\n",
        "sns.heatmap(confusion_matrix(y_test, y_pred), annot=True, fmt='g', ax=ax)\n",
        "ax.set_xlabel('Predicted labels');ax.set_ylabel('True labels'); \n",
        "plt.show()"
      ]
    },
    {
      "cell_type": "markdown",
      "metadata": {
        "id": "9rRCaU6_lKh_"
      },
      "source": [
        "> it only missed 8 and predict it to 0 but it predict a lot of 0 as 1."
      ]
    },
    {
      "cell_type": "markdown",
      "metadata": {
        "id": "SlRw4F9Nlcmj"
      },
      "source": [
        "# Conclusion"
      ]
    },
    {
      "cell_type": "markdown",
      "metadata": {
        "id": "NUwQJcAqlezU"
      },
      "source": [
        "> the data is very much difficult to handle as the imbalance is over the top even if we have a really good accuracy we will have a bad f1-score my model have a 40% of f1-score which is not really that bad"
      ]
    },
    {
      "cell_type": "markdown",
      "metadata": {},
      "source": [
        "> my model is better than the baseline because my model is categorize as DNN which can perform much better than a MLP. we can also see that the f1-score of the model also improve about the accuracy we cannot say anything as if the model just predict all to be 0 than the accuracy will also be high as the data that was given is very imbalance and need a lot of preprocessing"
      ]
    }
  ],
  "metadata": {
    "accelerator": "GPU",
    "colab": {
      "provenance": []
    },
    "gpuClass": "standard",
    "kernelspec": {
      "display_name": "Python 3",
      "name": "python3"
    },
    "language_info": {
      "name": "python"
    }
  },
  "nbformat": 4,
  "nbformat_minor": 0
}
